{
 "cells": [
  {
   "cell_type": "code",
   "execution_count": 1,
   "id": "166011e0",
   "metadata": {},
   "outputs": [],
   "source": [
    "import pandas as pd \n",
    "import deepl\n",
    "import time\n",
    "import os\n",
    "\n",
    "import datetime\n",
    "import math\n",
    "from itertools import cycle , islice\n",
    " \n",
    "auth_key = \"121f6ca3-2f17-586a-6a14-ddd98a512985:fx\"  # Replace with your key\n",
    "translator = deepl.Translator(auth_key)"
   ]
  },
  {
   "cell_type": "code",
   "execution_count": 2,
   "id": "01b8c936",
   "metadata": {},
   "outputs": [],
   "source": [
    "df = pd.read_csv(\"bp.csv\")"
   ]
  },
  {
   "cell_type": "code",
   "execution_count": 4,
   "id": "16ea7cfb",
   "metadata": {},
   "outputs": [],
   "source": [
    "languages = ['CS', 'DE', 'ES', 'PT-BR', 'FR', 'NL']"
   ]
  },
  {
   "cell_type": "code",
   "execution_count": 5,
   "id": "3e2dad60",
   "metadata": {},
   "outputs": [
    {
     "name": "stdout",
     "output_type": "stream",
     "text": [
      "[[], [], [], [], [], []]\n"
     ]
    }
   ],
   "source": [
    "translations=[]\n",
    "for i in range(len(languages)):\n",
    "    col = []\n",
    "    translations.append(col)\n",
    "print(translations)"
   ]
  },
  {
   "cell_type": "code",
   "execution_count": null,
   "id": "694c3e09",
   "metadata": {},
   "outputs": [],
   "source": [
    "\n",
    "for index, row in df.iterrows():\n",
    "    if row['Flag'] == 0:\n",
    "        for i in range(len(languages)):\n",
    "            translations[i].append(row['Keyword'])\n",
    "    elif row['Flag'] == 1:\n",
    "        for i in range(len(languages)):\n",
    "            translations[i].append(translator.translate_text(row['Keyword'], target_lang=languages[i]))\n",
    "    "
   ]
  },
  {
   "cell_type": "code",
   "execution_count": null,
   "id": "976454b1",
   "metadata": {},
   "outputs": [],
   "source": [
    "for i in range(len(languages)):\n",
    "    df[languages[i]] = translations[i]"
   ]
  },
  {
   "cell_type": "code",
   "execution_count": null,
   "id": "6c8834f2",
   "metadata": {},
   "outputs": [],
   "source": [
    "df.to_csv('out.csv', encoding='utf-8', index=False)"
   ]
  }
 ],
 "metadata": {
  "kernelspec": {
   "display_name": "Python 3 (ipykernel)",
   "language": "python",
   "name": "python3"
  },
  "language_info": {
   "codemirror_mode": {
    "name": "ipython",
    "version": 3
   },
   "file_extension": ".py",
   "mimetype": "text/x-python",
   "name": "python",
   "nbconvert_exporter": "python",
   "pygments_lexer": "ipython3",
   "version": "3.9.7"
  }
 },
 "nbformat": 4,
 "nbformat_minor": 5
}
