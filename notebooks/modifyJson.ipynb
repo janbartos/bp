{
 "cells": [
  {
   "cell_type": "code",
   "execution_count": 1,
   "id": "a1623c4f",
   "metadata": {},
   "outputs": [],
   "source": [
    "import pandas as pd"
   ]
  },
  {
   "cell_type": "code",
   "execution_count": 36,
   "id": "86d62533",
   "metadata": {},
   "outputs": [],
   "source": [
    "df = pd.read_json('de.json')"
   ]
  },
  {
   "cell_type": "code",
   "execution_count": 38,
   "id": "76c3af50",
   "metadata": {},
   "outputs": [],
   "source": [
    "df_lang = pd.DataFrame()"
   ]
  },
  {
   "cell_type": "code",
   "execution_count": 39,
   "id": "76d90667",
   "metadata": {},
   "outputs": [],
   "source": [
    "df_lang[\"Keyword\"] = df.ngram"
   ]
  },
  {
   "cell_type": "code",
   "execution_count": 41,
   "id": "05403645",
   "metadata": {},
   "outputs": [],
   "source": [
    "for i in range(2004,2020):\n",
    "    arr = []\n",
    "    for i2 in range(0,21):\n",
    "        arr.append(df.iloc[i2].timeseries[i - 2004])\n",
    "    df_lang[str(i)] = arr\n",
    "    "
   ]
  },
  {
   "cell_type": "code",
   "execution_count": 43,
   "id": "cbe57f1e",
   "metadata": {},
   "outputs": [],
   "source": [
    "df_lang.to_csv('df_de_ngram.csv', index=False)"
   ]
  },
  {
   "cell_type": "code",
   "execution_count": null,
   "id": "80087308",
   "metadata": {},
   "outputs": [],
   "source": []
  }
 ],
 "metadata": {
  "kernelspec": {
   "display_name": "Python 3 (ipykernel)",
   "language": "python",
   "name": "python3"
  },
  "language_info": {
   "codemirror_mode": {
    "name": "ipython",
    "version": 3
   },
   "file_extension": ".py",
   "mimetype": "text/x-python",
   "name": "python",
   "nbconvert_exporter": "python",
   "pygments_lexer": "ipython3",
   "version": "3.9.7"
  }
 },
 "nbformat": 4,
 "nbformat_minor": 5
}
