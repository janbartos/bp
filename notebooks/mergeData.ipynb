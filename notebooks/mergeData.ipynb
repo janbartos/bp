{
 "cells": [
  {
   "cell_type": "code",
   "execution_count": 30,
   "id": "fc2e8f99",
   "metadata": {},
   "outputs": [],
   "source": [
    "from os import listdir\n",
    "from os.path import isfile, join\n",
    "import pandas as pd\n",
    "import datetime\n",
    "from statistics import mean\n",
    "\n",
    "files = [f for f in listdir(\"./\") if isfile(join(\"./\", f))]"
   ]
  },
  {
   "cell_type": "code",
   "execution_count": 66,
   "id": "cce65689",
   "metadata": {},
   "outputs": [],
   "source": [
    "df = pd.read_csv(\"save2/out_mod_finished_mod.csv\")"
   ]
  },
  {
   "cell_type": "code",
   "execution_count": 55,
   "id": "8e200e45",
   "metadata": {},
   "outputs": [],
   "source": [
    "df_data_us = pd.DataFrame(columns=['keyword', '2004', '2005', '2006', '2007', '2008', '2009', '2010', '2011', '2012', '2013', '2014', '2015', '2016', '2017', '2018', '2019', '2020', '2021', 'Category'])"
   ]
  },
  {
   "cell_type": "code",
   "execution_count": 63,
   "id": "5f82e24b",
   "metadata": {},
   "outputs": [],
   "source": [
    "for f in files:    \n",
    "    data = pd.read_csv(f) \n",
    "    keyword = data.iloc[0].values[0].split(\":\")[0] #získání klíčového slova\n",
    "    category = df.loc[df['EN'] == keyword].Cathegory.values[0]\n",
    "    data = data.iloc[1:, :]\n",
    "    data.rename(columns = {'Kategorie: Všechny kategorie':'Values'}, inplace = True)\n",
    "    data['Values'] = data['Values'].astype(int)\n",
    "    row = [keyword]\n",
    "    for i in range(2004,2022):\n",
    "        row.append(mean(data[ str(i)  + \"-01\": str(i) + \"-12\"].Values.values))\n",
    "    row.append(category)\n",
    "    df_data_us.loc[len(df_data_us.index)] = row"
   ]
  },
  {
   "cell_type": "code",
   "execution_count": null,
   "id": "96ad3ca1",
   "metadata": {},
   "outputs": [],
   "source": [
    "df_data_us.to_csv(\"df_data_us.csv\", index=False)"
   ]
  },
  {
   "cell_type": "code",
   "execution_count": null,
   "id": "25567bdf",
   "metadata": {},
   "outputs": [],
   "source": []
  }
 ],
 "metadata": {
  "kernelspec": {
   "display_name": "Python 3 (ipykernel)",
   "language": "python",
   "name": "python3"
  },
  "language_info": {
   "codemirror_mode": {
    "name": "ipython",
    "version": 3
   },
   "file_extension": ".py",
   "mimetype": "text/x-python",
   "name": "python",
   "nbconvert_exporter": "python",
   "pygments_lexer": "ipython3",
   "version": "3.9.7"
  }
 },
 "nbformat": 4,
 "nbformat_minor": 5
}
