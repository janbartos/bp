{
 "cells": [
  {
   "cell_type": "code",
   "execution_count": 1,
   "id": "25440d7a",
   "metadata": {},
   "outputs": [],
   "source": [
    "import pandas as pd \n",
    "import time\n",
    "import os\n",
    "\n",
    "import datetime\n",
    "import math\n",
    "import matplotlib.pyplot as plt"
   ]
  },
  {
   "cell_type": "code",
   "execution_count": 2,
   "id": "24a9943c",
   "metadata": {},
   "outputs": [],
   "source": [
    "df_fertility = pd.read_csv(\"fr.csv\")"
   ]
  },
  {
   "cell_type": "code",
   "execution_count": 7,
   "id": "f31a791d",
   "metadata": {},
   "outputs": [],
   "source": [
    "countries_data = [\"br\", \"cz\", \"de\", \"es\", \"fr\", \"nl\", \"us\"] "
   ]
  },
  {
   "cell_type": "code",
   "execution_count": 3,
   "id": "e732c2e6",
   "metadata": {},
   "outputs": [],
   "source": [
    "countries = ['BRA', 'CZE', 'DEU', 'ESP', 'FRA', 'NLD', 'USA']"
   ]
  },
  {
   "cell_type": "code",
   "execution_count": 5,
   "id": "dcfdeab6",
   "metadata": {},
   "outputs": [],
   "source": [
    "fertility = []\n",
    "for country in countries:\n",
    "    fertility.append(df_fertility[df_fertility.LOCATION == country]['Value'].values)"
   ]
  },
  {
   "cell_type": "code",
   "execution_count": null,
   "id": "2fdbfc25",
   "metadata": {},
   "outputs": [],
   "source": [
    "for country in countries_data:\n",
    "    df = pd.read_csv(\"df_data_\" + country +\".csv\")\n",
    "    df.drop(columns=['Cathegory']\n",
    "    df1 = pd.DataFrame(columns=df['keyword'].values)\n",
    "    for i in range(2004,2021):\n",
    "        df1.loc[len(df1.index)] = df[str(i)].values\n",
    "    df1['fertility'] = fertility[countries_data.index(country)]\n",
    "    df2 =  df1.corr()['fertility']\n",
    "    df2.to_csv('df_data_ '+ country +'_corr.csv', encoding='utf-8', index=False) "
   ]
  }
 ],
 "metadata": {
  "kernelspec": {
   "display_name": "Python 3 (ipykernel)",
   "language": "python",
   "name": "python3"
  },
  "language_info": {
   "codemirror_mode": {
    "name": "ipython",
    "version": 3
   },
   "file_extension": ".py",
   "mimetype": "text/x-python",
   "name": "python",
   "nbconvert_exporter": "python",
   "pygments_lexer": "ipython3",
   "version": "3.9.7"
  }
 },
 "nbformat": 4,
 "nbformat_minor": 5
}
