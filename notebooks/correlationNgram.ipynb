{
 "cells": [
  {
   "cell_type": "code",
   "execution_count": 1,
   "id": "25440d7a",
   "metadata": {},
   "outputs": [],
   "source": [
    "import pandas as pd \n",
    "import time\n",
    "import os\n",
    "\n",
    "import datetime\n",
    "import math\n",
    "import matplotlib.pyplot as plt"
   ]
  },
  {
   "cell_type": "code",
   "execution_count": 6,
   "id": "24a9943c",
   "metadata": {},
   "outputs": [],
   "source": [
    "df_fertility = pd.read_csv(\"fr.csv\")"
   ]
  },
  {
   "cell_type": "code",
   "execution_count": 7,
   "id": "f31a791d",
   "metadata": {},
   "outputs": [],
   "source": [
    "countries_data = [\"de\", \"es\", \"fr\", \"us\"] "
   ]
  },
  {
   "cell_type": "code",
   "execution_count": 8,
   "id": "e732c2e6",
   "metadata": {},
   "outputs": [],
   "source": [
    "countries = ['DEU', 'ESP', 'FRA', 'USA']"
   ]
  },
  {
   "cell_type": "code",
   "execution_count": 13,
   "id": "dcfdeab6",
   "metadata": {},
   "outputs": [],
   "source": [
    "fertility = []\n",
    "for country in countries:\n",
    "    fertility.append(df_fertility[df_fertility.LOCATION == country]['Value'].values[:16])"
   ]
  },
  {
   "cell_type": "code",
   "execution_count": 18,
   "id": "2fdbfc25",
   "metadata": {},
   "outputs": [],
   "source": [
    "for country in countries_data:\n",
    "    df = pd.read_csv(\"df_\" + country +\"_ngram.csv\")\n",
    "#    df.drop(columns=['Cathegory'])\n",
    "    df1 = pd.DataFrame(columns=df['Keyword'].values)\n",
    "    for i in range(2004,2020):\n",
    "        df1.loc[len(df1.index)] = df[str(i)].values\n",
    "    df1['fertility'] = fertility[countries_data.index(country)]\n",
    "    df2 =  df1.corr()['fertility']\n",
    "    df2.to_csv('df_data_'+ country +'_ngram_corr.csv', encoding='utf-8') "
   ]
  },
  {
   "cell_type": "code",
   "execution_count": 16,
   "id": "68b4c345",
   "metadata": {},
   "outputs": [
    {
     "data": {
      "text/plain": [
       "Octoberfest     0.670278\n",
       "melatonin      -0.107009\n",
       "newsday         0.795615\n",
       "kindergarden    0.164862\n",
       "Methodist       0.896695\n",
       "Anabolics      -0.159498\n",
       "college         0.764150\n",
       "Berkeley        0.869188\n",
       "Lutherans       0.622049\n",
       "university      0.382152\n",
       "lamotrigine     0.160843\n",
       "Weed            0.854932\n",
       "Walmart        -0.903533\n",
       "Caffeine        0.343723\n",
       "goodwill        0.857095\n",
       "therapist      -0.323353\n",
       "Whiskey        -0.665906\n",
       "coffee         -0.851767\n",
       "starbucks      -0.632685\n",
       "venlafaxine     0.578819\n",
       "fertility       1.000000\n",
       "Name: fertility, dtype: float64"
      ]
     },
     "execution_count": 16,
     "metadata": {},
     "output_type": "execute_result"
    }
   ],
   "source": [
    "df1.corr()['fertility']"
   ]
  },
  {
   "cell_type": "code",
   "execution_count": 17,
   "id": "c2c4b4b6",
   "metadata": {},
   "outputs": [
    {
     "data": {
      "text/plain": [
       "Octoberfest     0.670278\n",
       "melatonin      -0.107009\n",
       "newsday         0.795615\n",
       "kindergarden    0.164862\n",
       "Methodist       0.896695\n",
       "Anabolics      -0.159498\n",
       "college         0.764150\n",
       "Berkeley        0.869188\n",
       "Lutherans       0.622049\n",
       "university      0.382152\n",
       "lamotrigine     0.160843\n",
       "Weed            0.854932\n",
       "Walmart        -0.903533\n",
       "Caffeine        0.343723\n",
       "goodwill        0.857095\n",
       "therapist      -0.323353\n",
       "Whiskey        -0.665906\n",
       "coffee         -0.851767\n",
       "starbucks      -0.632685\n",
       "venlafaxine     0.578819\n",
       "fertility       1.000000\n",
       "Name: fertility, dtype: float64"
      ]
     },
     "execution_count": 17,
     "metadata": {},
     "output_type": "execute_result"
    }
   ],
   "source": [
    "df2"
   ]
  },
  {
   "cell_type": "code",
   "execution_count": null,
   "id": "a239bf89",
   "metadata": {},
   "outputs": [],
   "source": []
  }
 ],
 "metadata": {
  "kernelspec": {
   "display_name": "Python 3 (ipykernel)",
   "language": "python",
   "name": "python3"
  },
  "language_info": {
   "codemirror_mode": {
    "name": "ipython",
    "version": 3
   },
   "file_extension": ".py",
   "mimetype": "text/x-python",
   "name": "python",
   "nbconvert_exporter": "python",
   "pygments_lexer": "ipython3",
   "version": "3.9.7"
  }
 },
 "nbformat": 4,
 "nbformat_minor": 5
}
