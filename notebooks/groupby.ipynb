{
 "cells": [
  {
   "cell_type": "code",
   "execution_count": 2,
   "id": "a48b3817",
   "metadata": {},
   "outputs": [],
   "source": [
    "import pandas as pd \n",
    "import time\n",
    "import os\n",
    "import numpy as np\n",
    "\n",
    "import datetime\n",
    "import math\n",
    "import matplotlib.pyplot as plt"
   ]
  },
  {
   "cell_type": "code",
   "execution_count": 3,
   "id": "587e5693",
   "metadata": {},
   "outputs": [],
   "source": [
    "df = pd.read_csv(\"out_mod_finished_mod.csv\")"
   ]
  },
  {
   "cell_type": "code",
   "execution_count": 5,
   "id": "e901574c",
   "metadata": {},
   "outputs": [
    {
     "data": {
      "text/plain": [
       "array(['Antidepressants', 'Cars', 'Conspiracy Theories', 'Consumerism',\n",
       "       'Contraceptives', 'Crime', 'Education', 'University', 'Emigration',\n",
       "       'Entertainment', 'Environmentalism', 'Gambling', 'Games', 'Guns',\n",
       "       'Healthcare', 'Housing', 'Charities', 'Ideology', 'Illegal Drugs',\n",
       "       'Investing', 'Jobs', 'Legal Drugs', 'Low income', 'Marriage',\n",
       "       'News', 'Other', 'Religion', 'S&P 500', 'Sports', 'Stats',\n",
       "       'Steroids', 'Tourism'], dtype=object)"
      ]
     },
     "execution_count": 5,
     "metadata": {},
     "output_type": "execute_result"
    }
   ],
   "source": [
    "df.Cathegory.unique()"
   ]
  },
  {
   "cell_type": "code",
   "execution_count": 32,
   "id": "3f32be81",
   "metadata": {},
   "outputs": [],
   "source": [
    "langs = {\n",
    "    \"br\" : \"PT-BR\",\n",
    "    \"us\" : \"EN\",\n",
    "    \"cz\" : \"CS\",\n",
    "    \"de\" : \"DE\",\n",
    "    \"fr\" : \"FR\",\n",
    "    \"nl\" : \"NL\",\n",
    "    \"es\" : \"ES\",\n",
    "}"
   ]
  },
  {
   "cell_type": "code",
   "execution_count": 10,
   "id": "7421ab60",
   "metadata": {},
   "outputs": [],
   "source": [
    "for key in langs:\n",
    "    df_lang = pd.read_csv(\"df_data_\" + key + \".csv\")\n",
    "    \n",
    "    df_lang = df_lang.groupby(by = \"Cathegory\").mean()\n",
    "    \n",
    "    df_lang.to_csv(\"df_data_groupby_\" + key + \".csv\", encoding='utf-8', index = False) \n",
    "    "
   ]
  },
  {
   "cell_type": "code",
   "execution_count": 34,
   "id": "33504d77",
   "metadata": {
    "pycharm": {
     "name": "#%%\n"
    }
   },
   "outputs": [],
   "source": [
    "for key in langs:\n",
    "    \n",
    "    df_lang = pd.read_csv(\"df_data_groupby_\" + key + \".csv\")\n",
    "    \n",
    "\n",
    "    df_lang = df_lang.drop(['Unnamed: 0', \"Unnamed: 0.1\", \"Unnamed: 0.1.1\", \"Unnamed: 0.1.1.1\"], axis = 1)\n",
    "\n",
    "    df_lang.to_csv(\"df_data_groupby_\" + key + \".csv\", encoding='utf-8', index = False) \n"
   ]
  }
 ],
 "metadata": {
  "kernelspec": {
   "display_name": "Python 3 (ipykernel)",
   "language": "python",
   "name": "python3"
  },
  "language_info": {
   "codemirror_mode": {
    "name": "ipython",
    "version": 3
   },
   "file_extension": ".py",
   "mimetype": "text/x-python",
   "name": "python",
   "nbconvert_exporter": "python",
   "pygments_lexer": "ipython3",
   "version": "3.9.7"
  }
 },
 "nbformat": 4,
 "nbformat_minor": 5
}