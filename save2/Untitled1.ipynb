{
 "cells": [
  {
   "cell_type": "code",
   "execution_count": 1,
   "id": "89293bed",
   "metadata": {},
   "outputs": [
    {
     "name": "stderr",
     "output_type": "stream",
     "text": [
      "2022-12-14 21:15:17.040 INFO    numexpr.utils: NumExpr defaulting to 4 threads.\n"
     ]
    }
   ],
   "source": [
    "import streamlit as st\n",
    "import pandas as pd\n",
    "import numpy as np\n",
    "import matplotlib.pyplot as plt\n",
    "from matplotlib import rc\n",
    "import streamlit.components.v1 as components\n",
    "from scipy import stats\n",
    "from scipy.optimize import curve_fit\n",
    "from math import exp"
   ]
  },
  {
   "cell_type": "code",
   "execution_count": null,
   "id": "dd3b06b3",
   "metadata": {},
   "outputs": [],
   "source": [
    "df = pd.DataFrame()\n",
    "\n",
    "\n"
   ]
  },
  {
   "cell_type": "code",
   "execution_count": null,
   "id": "143e2eee",
   "metadata": {},
   "outputs": [],
   "source": [
    "languages = [\"br\", \"cz\", \"us\", \"de\", \"es\", \"nl\", \"fr\"]"
   ]
  },
  {
   "cell_type": "code",
   "execution_count": null,
   "id": "b3e3ba6f",
   "metadata": {},
   "outputs": [],
   "source": [
    "for lang in languages:\n",
    "    df_import = pd.read_csv(\"save2/df_data_groupby_\" + lang + \".csv\")\n",
    "    df_import = df_import.drop(['2021'], axis=1)\n",
    "    df_transposed = df_import.set_index(\"Cathegory\").T\n",
    "    \n",
    "    df_fertility = pd.read_csv(\"fr.csv\")\n",
    "    df_stats = pd.DataFrame()\n",
    "    df_stats[\"Data\"] = df_transposed[category].values\n",
    "    df_stats[\"FTR\"] = df_fertility[df_fertility.LOCATION == lang]['Value'].values[:17]\n",
    "    \n",
    "    df_fert = df_fertility[df_fertility.LOCATION == lang]['Value'].values[:17]\n",
    "\n",
    "    df_sample_size = pd.read_csv(\"save2/df_data_\" + lang + \".csv\")\n",
    "    sample size  = str(len(df_sample_size[df_sample_size[\"Cathegory\"] == category]\n",
    "                           \n",
    "    pearson = stats.pearsonr(df_transposed[category].values, df_fert)\n",
    "col1.metric(\"Pearson correlation\", round(pearson[0], 4))\n",
    "col2.metric(\"p-Value\", round(pearson[1], 5))\n",
    "col3.metric(\"Covariance\", round(df_stats.cov()[\"Data\"].values[1],4))\n",
    "spearman = stats.spearmanr(df_transposed[category].values, df_fert)\n",
    "col4.metric(\"Spearman correlation\", round(spearman[0], 4))\n",
    "col5.metric(\"p-Value\", round(spearman[1], 5))\n",
    "        "
   ]
  },
  {
   "cell_type": "code",
   "execution_count": null,
   "id": "bf293bb4",
   "metadata": {},
   "outputs": [],
   "source": [
    "\n",
    "\n",
    "\n",
    "        "
   ]
  }
 ],
 "metadata": {
  "kernelspec": {
   "display_name": "Python 3 (ipykernel)",
   "language": "python",
   "name": "python3"
  },
  "language_info": {
   "codemirror_mode": {
    "name": "ipython",
    "version": 3
   },
   "file_extension": ".py",
   "mimetype": "text/x-python",
   "name": "python",
   "nbconvert_exporter": "python",
   "pygments_lexer": "ipython3",
   "version": "3.9.7"
  }
 },
 "nbformat": 4,
 "nbformat_minor": 5
}
